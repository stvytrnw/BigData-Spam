{
 "cells": [
  {
   "cell_type": "markdown",
   "metadata": {},
   "source": [
    "# Spam-Detection"
   ]
  },
  {
   "cell_type": "code",
   "execution_count": 2,
   "metadata": {},
   "outputs": [
    {
     "name": "stdout",
     "output_type": "stream",
     "text": [
      "WARNING:tensorflow:From c:\\Users\\Anwender\\repos\\spam\\BigData-Spam\\venv\\Lib\\site-packages\\keras\\src\\losses.py:2976: The name tf.losses.sparse_softmax_cross_entropy is deprecated. Please use tf.compat.v1.losses.sparse_softmax_cross_entropy instead.\n",
      "\n"
     ]
    }
   ],
   "source": [
    "import pandas as pd\n",
    "import tensorflow as tf\n",
    "import matplotlib.pyplot as plt\n",
    "import seaborn as sns\n",
    "from sklearn.neighbors import KNeighborsClassifier\n",
    "from sklearn.naive_bayes import GaussianNB\n",
    "from sklearn.linear_model import LogisticRegression\n",
    "from sklearn.ensemble import RandomForestClassifier\n",
    "from sklearn import svm\n",
    "from sklearn.model_selection import train_test_split, cross_val_score\n",
    "from sklearn.metrics import r2_score\n",
    "from sklearn.neural_network import MLPClassifier"
   ]
  },
  {
   "cell_type": "code",
   "execution_count": 3,
   "metadata": {},
   "outputs": [],
   "source": [
    "df = pd.read_csv(\"emails2.csv\")\n",
    "\n",
    "X = df[df.columns[1:-1]].values\n",
    "y = df[df.columns[-1]].values\n",
    "X_train, X_test, y_train, y_test = train_test_split(X, y, test_size=0.2, random_state=42, shuffle=True)"
   ]
  },
  {
   "cell_type": "markdown",
   "metadata": {},
   "source": [
    "KNN"
   ]
  },
  {
   "cell_type": "code",
   "execution_count": 3,
   "metadata": {},
   "outputs": [
    {
     "name": "stdout",
     "output_type": "stream",
     "text": [
      "kNN\n",
      "Train R2: 0.472734544880967\n",
      "Test R2: 0.372524907249156\n",
      "Scores: [0.31636442 0.28747841 0.26809339 0.30169373 0.32109113]\n",
      "Mean score: 0.29894421658504333\n",
      "Std score: 0.01941518830703369\n"
     ]
    }
   ],
   "source": [
    "print('kNN')\n",
    "model = KNeighborsClassifier(n_neighbors=5)\n",
    "print('Train R2: {}'.format(r2_score(y_train, model.fit(X_train, y_train).predict(X_train))))\n",
    "print('Test R2: {}'.format(r2_score(y_test, model.fit(X_train, y_train).predict(X_test))))\n",
    "scores = cross_val_score(model, X_train, y_train, cv=5, scoring='r2')\n",
    "print('Scores: {}'.format(scores))\n",
    "print('Mean score: {}'.format(scores.mean()))\n",
    "print('Std score: {}'.format(scores.std()))"
   ]
  },
  {
   "cell_type": "markdown",
   "metadata": {},
   "source": [
    "Naive Bayes"
   ]
  },
  {
   "cell_type": "code",
   "execution_count": 4,
   "metadata": {},
   "outputs": [
    {
     "name": "stdout",
     "output_type": "stream",
     "text": [
      "Naive Bayes\n",
      "Train R2: 0.4051364096092962\n",
      "Test R2: -0.12325788208484423\n",
      "Scores: [-0.08803972  0.00824698  0.01770428 -0.27052946  0.00103409]\n",
      "Mean score: -0.06631676577407027\n",
      "Std score: 0.10893129535460386\n"
     ]
    }
   ],
   "source": [
    "print('Naive Bayes')\n",
    "model = GaussianNB()\n",
    "print('Train R2: {}'.format(r2_score(y_train, model.fit(X_train, y_train).predict(X_train))))\n",
    "print('Test R2: {}'.format(r2_score(y_test, model.fit(X_train, y_train).predict(X_test))))\n",
    "scores = cross_val_score(model, X_train, y_train, cv=5, scoring='r2')\n",
    "print('Scores: {}'.format(scores))\n",
    "print('Mean score: {}'.format(scores.mean()))\n",
    "print('Std score: {}'.format(scores.std()))"
   ]
  },
  {
   "cell_type": "markdown",
   "metadata": {},
   "source": [
    "Log Regression"
   ]
  },
  {
   "cell_type": "code",
   "execution_count": 5,
   "metadata": {},
   "outputs": [
    {
     "name": "stdout",
     "output_type": "stream",
     "text": [
      "Log Regression\n",
      "Train R2: 0.9497842423696159\n",
      "Test R2: 0.8450678783331249\n",
      "Scores: [0.83631261 0.81705527 0.7881323  0.81572474 0.80602604]\n",
      "Mean score: 0.8126501888431024\n",
      "Std score: 0.01570843149832964\n"
     ]
    }
   ],
   "source": [
    "print('Log Regression')\n",
    "model = LogisticRegression(max_iter=1000)\n",
    "print('Train R2: {}'.format(r2_score(y_train, model.fit(X_train, y_train).predict(X_train))))\n",
    "print('Test R2: {}'.format(r2_score(y_test, model.fit(X_train, y_train).predict(X_test))))\n",
    "scores = cross_val_score(model, X_train, y_train, cv=5, scoring='r2')\n",
    "print('Scores: {}'.format(scores))\n",
    "print('Mean score: {}'.format(scores.mean()))\n",
    "print('Std score: {}'.format(scores.std()))"
   ]
  },
  {
   "cell_type": "markdown",
   "metadata": {},
   "source": [
    "Random Forrest"
   ]
  },
  {
   "cell_type": "code",
   "execution_count": 6,
   "metadata": {},
   "outputs": [
    {
     "name": "stdout",
     "output_type": "stream",
     "text": [
      "Random Forest Classifier\n",
      "Train R2: 0.9980686247065237\n",
      "Test R2: 0.8063348479164062\n",
      "Scores: [0.78816926 0.78816926 0.71108949 0.67994296 0.72843645]\n",
      "Mean score: 0.73916148455713\n",
      "Std score: 0.04292649532466557\n",
      "\n"
     ]
    }
   ],
   "source": [
    "print('Random Forest Classifier')\n",
    "model = RandomForestClassifier()\n",
    "print('Train R2: {}'.format(r2_score(y_train, model.fit(X_train, y_train).predict(X_train))))\n",
    "print('Test R2: {}'.format(r2_score(y_test, model.fit(X_train, y_train).predict(X_test))))\n",
    "scores = cross_val_score(model, X_train, y_train, cv=5, scoring='r2')\n",
    "print('Scores: {}'.format(scores))\n",
    "print('Mean score: {}'.format(scores.mean()))\n",
    "print('Std score: {}'.format(scores.std()))\n",
    "print()"
   ]
  },
  {
   "cell_type": "markdown",
   "metadata": {},
   "source": [
    "SVM"
   ]
  },
  {
   "cell_type": "code",
   "execution_count": 7,
   "metadata": {},
   "outputs": [
    {
     "name": "stdout",
     "output_type": "stream",
     "text": [
      "SVM\n",
      "Train R2: 0.9922744988260948\n",
      "Test R2: 0.8373212722497811\n",
      "Scores: [0.86519862 0.82668394 0.79776265 0.83512213 0.78662864]\n",
      "Mean score: 0.8222791949787313\n",
      "Std score: 0.02792290405294452\n",
      "\n"
     ]
    }
   ],
   "source": [
    "print('SVM')\n",
    "model = svm.SVC(kernel='linear')\n",
    "print('Train R2: {}'.format(r2_score(y_train, model.fit(X_train, y_train).predict(X_train))))\n",
    "print('Test R2: {}'.format(r2_score(y_test, model.fit(X_train, y_train).predict(X_test))))\n",
    "scores = cross_val_score(model, X_train, y_train, cv=5, scoring='r2')\n",
    "print('Scores: {}'.format(scores))\n",
    "print('Mean score: {}'.format(scores.mean()))\n",
    "print('Std score: {}'.format(scores.std()))\n",
    "print()"
   ]
  },
  {
   "cell_type": "markdown",
   "metadata": {},
   "source": [
    "Neural Network"
   ]
  },
  {
   "cell_type": "code",
   "execution_count": 8,
   "metadata": {},
   "outputs": [
    {
     "name": "stdout",
     "output_type": "stream",
     "text": [
      "NEURAL NETWORK\n",
      "Train R2: 0.9980686247065237\n",
      "Test R2: 0.8838009087498437\n",
      "Scores: [0.89408463 0.85556995 0.7881323  0.80602604 0.77692994]\n",
      "Mean score: 0.8241485705792165\n",
      "Std score: 0.04412154179360637\n"
     ]
    }
   ],
   "source": [
    "print('NEURAL NETWORK')\n",
    "model = MLPClassifier(random_state=42, max_iter=10000, hidden_layer_sizes=[100,100])\n",
    "print('Train R2: {}'.format(r2_score(y_train, model.fit(X_train, y_train).predict(X_train))))\n",
    "print('Test R2: {}'.format(r2_score(y_test, model.fit(X_train, y_train).predict(X_test))))\n",
    "scores = cross_val_score(model, X_train, y_train, cv=5, scoring='r2')\n",
    "print('Scores: {}'.format(scores))\n",
    "print('Mean score: {}'.format(scores.mean()))\n",
    "print('Std score: {}'.format(scores.std()))"
   ]
  },
  {
   "cell_type": "markdown",
   "metadata": {},
   "source": []
  },
  {
   "cell_type": "code",
   "execution_count": null,
   "metadata": {},
   "outputs": [],
   "source": []
  }
 ],
 "metadata": {
  "kernelspec": {
   "display_name": "venv",
   "language": "python",
   "name": "python3"
  },
  "language_info": {
   "codemirror_mode": {
    "name": "ipython",
    "version": 3
   },
   "file_extension": ".py",
   "mimetype": "text/x-python",
   "name": "python",
   "nbconvert_exporter": "python",
   "pygments_lexer": "ipython3",
   "version": "3.11.3"
  }
 },
 "nbformat": 4,
 "nbformat_minor": 2
}
