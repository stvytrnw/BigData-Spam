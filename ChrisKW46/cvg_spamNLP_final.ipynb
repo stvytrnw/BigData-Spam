{
 "cells": [
  {
   "cell_type": "markdown",
   "metadata": {},
   "source": [
    "#Module importieren & Datensatz einlesen"
   ]
  },
  {
   "cell_type": "code",
   "execution_count": 31,
   "metadata": {
    "execution": {
     "iopub.execute_input": "2021-02-08T08:52:28.614384Z",
     "iopub.status.busy": "2021-02-08T08:52:28.613491Z",
     "iopub.status.idle": "2021-02-08T08:52:40.750158Z",
     "shell.execute_reply": "2021-02-08T08:52:40.749176Z"
    },
    "papermill": {
     "duration": 12.169917,
     "end_time": "2021-02-08T08:52:40.750380",
     "exception": false,
     "start_time": "2021-02-08T08:52:28.580463",
     "status": "completed"
    },
    "tags": []
   },
   "outputs": [],
   "source": [
    "# Module importieren\n",
    "import tensorflow as tf\n",
    "import numpy as np\n",
    "import pandas as pd\n",
    "import matplotlib.pyplot as plt\n",
    "from sklearn.model_selection import train_test_split\n",
    "from tensorflow.keras.preprocessing.text import Tokenizer\n",
    "from tensorflow.keras.preprocessing.sequence import pad_sequences\n"
   ]
  },
  {
   "cell_type": "code",
   "execution_count": 32,
   "metadata": {
    "execution": {
     "iopub.execute_input": "2021-02-08T08:52:40.791669Z",
     "iopub.status.busy": "2021-02-08T08:52:40.790985Z",
     "iopub.status.idle": "2021-02-08T08:52:40.856194Z",
     "shell.execute_reply": "2021-02-08T08:52:40.855261Z"
    },
    "papermill": {
     "duration": 0.088819,
     "end_time": "2021-02-08T08:52:40.856378",
     "exception": false,
     "start_time": "2021-02-08T08:52:40.767559",
     "status": "completed"
    },
    "tags": []
   },
   "outputs": [],
   "source": [
    "data=pd.read_csv('SPAM text message 20170820 - Data.csv')"
   ]
  },
  {
   "cell_type": "code",
   "execution_count": 33,
   "metadata": {
    "execution": {
     "iopub.execute_input": "2021-02-08T08:52:40.927753Z",
     "iopub.status.busy": "2021-02-08T08:52:40.926815Z",
     "iopub.status.idle": "2021-02-08T08:52:40.954800Z",
     "shell.execute_reply": "2021-02-08T08:52:40.955587Z"
    },
    "papermill": {
     "duration": 0.071468,
     "end_time": "2021-02-08T08:52:40.955785",
     "exception": false,
     "start_time": "2021-02-08T08:52:40.884317",
     "status": "completed"
    },
    "tags": []
   },
   "outputs": [
    {
     "data": {
      "text/html": [
       "<div>\n",
       "<style scoped>\n",
       "    .dataframe tbody tr th:only-of-type {\n",
       "        vertical-align: middle;\n",
       "    }\n",
       "\n",
       "    .dataframe tbody tr th {\n",
       "        vertical-align: top;\n",
       "    }\n",
       "\n",
       "    .dataframe thead th {\n",
       "        text-align: right;\n",
       "    }\n",
       "</style>\n",
       "<table border=\"1\" class=\"dataframe\">\n",
       "  <thead>\n",
       "    <tr style=\"text-align: right;\">\n",
       "      <th></th>\n",
       "      <th>Category</th>\n",
       "      <th>Message</th>\n",
       "    </tr>\n",
       "  </thead>\n",
       "  <tbody>\n",
       "    <tr>\n",
       "      <th>0</th>\n",
       "      <td>ham</td>\n",
       "      <td>Go until jurong point, crazy.. Available only ...</td>\n",
       "    </tr>\n",
       "    <tr>\n",
       "      <th>1</th>\n",
       "      <td>ham</td>\n",
       "      <td>Ok lar... Joking wif u oni...</td>\n",
       "    </tr>\n",
       "    <tr>\n",
       "      <th>2</th>\n",
       "      <td>spam</td>\n",
       "      <td>Free entry in 2 a wkly comp to win FA Cup fina...</td>\n",
       "    </tr>\n",
       "    <tr>\n",
       "      <th>3</th>\n",
       "      <td>ham</td>\n",
       "      <td>U dun say so early hor... U c already then say...</td>\n",
       "    </tr>\n",
       "    <tr>\n",
       "      <th>4</th>\n",
       "      <td>ham</td>\n",
       "      <td>Nah I don't think he goes to usf, he lives aro...</td>\n",
       "    </tr>\n",
       "  </tbody>\n",
       "</table>\n",
       "</div>"
      ],
      "text/plain": [
       "  Category                                            Message\n",
       "0      ham  Go until jurong point, crazy.. Available only ...\n",
       "1      ham                      Ok lar... Joking wif u oni...\n",
       "2     spam  Free entry in 2 a wkly comp to win FA Cup fina...\n",
       "3      ham  U dun say so early hor... U c already then say...\n",
       "4      ham  Nah I don't think he goes to usf, he lives aro..."
      ]
     },
     "execution_count": 33,
     "metadata": {},
     "output_type": "execute_result"
    }
   ],
   "source": [
    "data.head()"
   ]
  },
  {
   "cell_type": "markdown",
   "metadata": {},
   "source": [
    "#Datenimport und Exploration"
   ]
  },
  {
   "cell_type": "code",
   "execution_count": 34,
   "metadata": {
    "execution": {
     "iopub.execute_input": "2021-02-08T08:52:41.007316Z",
     "iopub.status.busy": "2021-02-08T08:52:41.006368Z",
     "iopub.status.idle": "2021-02-08T08:52:41.080339Z",
     "shell.execute_reply": "2021-02-08T08:52:41.079657Z"
    },
    "papermill": {
     "duration": 0.106915,
     "end_time": "2021-02-08T08:52:41.080492",
     "exception": false,
     "start_time": "2021-02-08T08:52:40.973577",
     "status": "completed"
    },
    "tags": []
   },
   "outputs": [
    {
     "data": {
      "text/html": [
       "<div>\n",
       "<style scoped>\n",
       "    .dataframe tbody tr th:only-of-type {\n",
       "        vertical-align: middle;\n",
       "    }\n",
       "\n",
       "    .dataframe tbody tr th {\n",
       "        vertical-align: top;\n",
       "    }\n",
       "\n",
       "    .dataframe thead th {\n",
       "        text-align: right;\n",
       "    }\n",
       "</style>\n",
       "<table border=\"1\" class=\"dataframe\">\n",
       "  <thead>\n",
       "    <tr style=\"text-align: right;\">\n",
       "      <th></th>\n",
       "      <th>Category</th>\n",
       "      <th>ham</th>\n",
       "      <th>spam</th>\n",
       "    </tr>\n",
       "  </thead>\n",
       "  <tbody>\n",
       "    <tr>\n",
       "      <th rowspan=\"4\" valign=\"top\">Message</th>\n",
       "      <th>count</th>\n",
       "      <td>4825</td>\n",
       "      <td>747</td>\n",
       "    </tr>\n",
       "    <tr>\n",
       "      <th>unique</th>\n",
       "      <td>4516</td>\n",
       "      <td>641</td>\n",
       "    </tr>\n",
       "    <tr>\n",
       "      <th>top</th>\n",
       "      <td>Sorry, I'll call later</td>\n",
       "      <td>Please call our customer service representativ...</td>\n",
       "    </tr>\n",
       "    <tr>\n",
       "      <th>freq</th>\n",
       "      <td>30</td>\n",
       "      <td>4</td>\n",
       "    </tr>\n",
       "  </tbody>\n",
       "</table>\n",
       "</div>"
      ],
      "text/plain": [
       "Category                           ham  \\\n",
       "Message count                     4825   \n",
       "        unique                    4516   \n",
       "        top     Sorry, I'll call later   \n",
       "        freq                        30   \n",
       "\n",
       "Category                                                     spam  \n",
       "Message count                                                 747  \n",
       "        unique                                                641  \n",
       "        top     Please call our customer service representativ...  \n",
       "        freq                                                    4  "
      ]
     },
     "execution_count": 34,
     "metadata": {},
     "output_type": "execute_result"
    }
   ],
   "source": [
    "data.groupby('Category').describe().T"
   ]
  },
  {
   "cell_type": "code",
   "execution_count": 35,
   "metadata": {
    "execution": {
     "iopub.execute_input": "2021-02-08T08:52:41.123491Z",
     "iopub.status.busy": "2021-02-08T08:52:41.122597Z",
     "iopub.status.idle": "2021-02-08T08:52:41.468390Z",
     "shell.execute_reply": "2021-02-08T08:52:41.469165Z"
    },
    "papermill": {
     "duration": 0.370552,
     "end_time": "2021-02-08T08:52:41.469395",
     "exception": false,
     "start_time": "2021-02-08T08:52:41.098843",
     "status": "completed"
    },
    "tags": []
   },
   "outputs": [
    {
     "data": {
      "text/plain": [
       "<Axes: xlabel='count', ylabel='Category'>"
      ]
     },
     "execution_count": 35,
     "metadata": {},
     "output_type": "execute_result"
    },
    {
     "data": {
      "image/png": "[encoded data removed]",
      "text/plain": [
       "<Figure size 400x400 with 1 Axes>"
      ]
     },
     "metadata": {},
     "output_type": "display_data"
    }
   ],
   "source": [
    "import seaborn as sns\n",
    "plt.figure(figsize=(4,4))\n",
    "sns.countplot(data['Category'])"
   ]
  },
  {
   "cell_type": "code",
   "execution_count": 36,
   "metadata": {
    "execution": {
     "iopub.execute_input": "2021-02-08T08:52:41.597230Z",
     "iopub.status.busy": "2021-02-08T08:52:41.596316Z",
     "iopub.status.idle": "2021-02-08T08:52:41.607896Z",
     "shell.execute_reply": "2021-02-08T08:52:41.608598Z"
    },
    "papermill": {
     "duration": 0.045957,
     "end_time": "2021-02-08T08:52:41.608830",
     "exception": false,
     "start_time": "2021-02-08T08:52:41.562873",
     "status": "completed"
    },
    "tags": []
   },
   "outputs": [],
   "source": [
    "#Daten ausbalancieren, da sie unausgewogen sind\n",
    "ham_msg = data[data.Category =='ham']\n",
    "spam_msg = data[data.Category=='spam']"
   ]
  },
  {
   "cell_type": "code",
   "execution_count": 37,
   "metadata": {
    "execution": {
     "iopub.execute_input": "2021-02-08T08:52:41.680289Z",
     "iopub.status.busy": "2021-02-08T08:52:41.679409Z",
     "iopub.status.idle": "2021-02-08T08:52:41.683507Z",
     "shell.execute_reply": "2021-02-08T08:52:41.684551Z"
    },
    "papermill": {
     "duration": 0.044657,
     "end_time": "2021-02-08T08:52:41.684788",
     "exception": false,
     "start_time": "2021-02-08T08:52:41.640131",
     "status": "completed"
    },
    "tags": []
   },
   "outputs": [],
   "source": [
    "#Zufallsentnahme von Daten aus ham_ msg\n",
    "ham_msg=ham_msg.sample(n=len(spam_msg),random_state=42)\n"
   ]
  },
  {
   "cell_type": "code",
   "execution_count": 38,
   "metadata": {
    "execution": {
     "iopub.execute_input": "2021-02-08T08:52:41.756029Z",
     "iopub.status.busy": "2021-02-08T08:52:41.755156Z",
     "iopub.status.idle": "2021-02-08T08:52:41.758494Z",
     "shell.execute_reply": "2021-02-08T08:52:41.759957Z"
    },
    "papermill": {
     "duration": 0.042903,
     "end_time": "2021-02-08T08:52:41.760274",
     "exception": false,
     "start_time": "2021-02-08T08:52:41.717371",
     "status": "completed"
    },
    "tags": []
   },
   "outputs": [
    {
     "name": "stdout",
     "output_type": "stream",
     "text": [
      "(747, 2) (747, 2)\n"
     ]
    }
   ],
   "source": [
    "print(ham_msg.shape,spam_msg.shape)"
   ]
  },
  {
   "cell_type": "markdown",
   "metadata": {},
   "source": [
    "#Datenvorbereitung"
   ]
  },
  {
   "cell_type": "code",
   "execution_count": 39,
   "metadata": {},
   "outputs": [
    {
     "data": {
      "image/png": "[encoded data removed]",
      "text/plain": [
       "<Figure size 400x400 with 1 Axes>"
      ]
     },
     "metadata": {},
     "output_type": "display_data"
    }
   ],
   "source": [
    "# Variante\n",
    "\n",
    "import seaborn as sns\n",
    "import matplotlib.pyplot as plt\n",
    "\n",
    "# Zusammenführen der ausgewählten ham- und spam-Nachrichten\n",
    "balanced_data = pd.concat([ham_msg, spam_msg]).reset_index(drop=True)\n",
    "\n",
    "# Plotting\n",
    "plt.figure(figsize=(4, 4))\n",
    "sns.countplot(balanced_data['Category'])\n",
    "plt.title('Distribution of ham and spam email messages (after downsampling)')\n",
    "plt.xlabel('Message types')\n",
    "plt.show()\n",
    "\n"
   ]
  },
  {
   "cell_type": "code",
   "execution_count": 40,
   "metadata": {
    "execution": {
     "iopub.execute_input": "2021-02-08T08:52:42.045270Z",
     "iopub.status.busy": "2021-02-08T08:52:42.044585Z",
     "iopub.status.idle": "2021-02-08T08:52:42.059615Z",
     "shell.execute_reply": "2021-02-08T08:52:42.060246Z"
    },
    "papermill": {
     "duration": 0.041575,
     "end_time": "2021-02-08T08:52:42.060436",
     "exception": false,
     "start_time": "2021-02-08T08:52:42.018861",
     "status": "completed"
    },
    "tags": []
   },
   "outputs": [
    {
     "data": {
      "text/html": [
       "<div>\n",
       "<style scoped>\n",
       "    .dataframe tbody tr th:only-of-type {\n",
       "        vertical-align: middle;\n",
       "    }\n",
       "\n",
       "    .dataframe tbody tr th {\n",
       "        vertical-align: top;\n",
       "    }\n",
       "\n",
       "    .dataframe thead th {\n",
       "        text-align: right;\n",
       "    }\n",
       "</style>\n",
       "<table border=\"1\" class=\"dataframe\">\n",
       "  <thead>\n",
       "    <tr style=\"text-align: right;\">\n",
       "      <th></th>\n",
       "      <th>Category</th>\n",
       "      <th>Message</th>\n",
       "    </tr>\n",
       "  </thead>\n",
       "  <tbody>\n",
       "    <tr>\n",
       "      <th>0</th>\n",
       "      <td>ham</td>\n",
       "      <td>If i not meeting ü all rite then i'll go home ...</td>\n",
       "    </tr>\n",
       "    <tr>\n",
       "      <th>1</th>\n",
       "      <td>ham</td>\n",
       "      <td>I.ll always be there, even if its just in spir...</td>\n",
       "    </tr>\n",
       "    <tr>\n",
       "      <th>2</th>\n",
       "      <td>ham</td>\n",
       "      <td>Sorry that took so long, omw now</td>\n",
       "    </tr>\n",
       "    <tr>\n",
       "      <th>3</th>\n",
       "      <td>ham</td>\n",
       "      <td>I thk 50 shd be ok he said plus minus 10.. Did...</td>\n",
       "    </tr>\n",
       "    <tr>\n",
       "      <th>4</th>\n",
       "      <td>ham</td>\n",
       "      <td>Dunno i juz askin cos i got a card got 20% off...</td>\n",
       "    </tr>\n",
       "  </tbody>\n",
       "</table>\n",
       "</div>"
      ],
      "text/plain": [
       "  Category                                            Message\n",
       "0      ham  If i not meeting ü all rite then i'll go home ...\n",
       "1      ham  I.ll always be there, even if its just in spir...\n",
       "2      ham                   Sorry that took so long, omw now\n",
       "3      ham  I thk 50 shd be ok he said plus minus 10.. Did...\n",
       "4      ham  Dunno i juz askin cos i got a card got 20% off..."
      ]
     },
     "execution_count": 40,
     "metadata": {},
     "output_type": "execute_result"
    }
   ],
   "source": [
    "balanced_data.head()"
   ]
  },
  {
   "cell_type": "code",
   "execution_count": 41,
   "metadata": {
    "execution": {
     "iopub.execute_input": "2021-02-08T08:52:42.117338Z",
     "iopub.status.busy": "2021-02-08T08:52:42.116631Z",
     "iopub.status.idle": "2021-02-08T08:52:42.122067Z",
     "shell.execute_reply": "2021-02-08T08:52:42.121358Z"
    },
    "papermill": {
     "duration": 0.038779,
     "end_time": "2021-02-08T08:52:42.122397",
     "exception": false,
     "start_time": "2021-02-08T08:52:42.083618",
     "status": "completed"
    },
    "tags": []
   },
   "outputs": [],
   "source": [
    "balanced_data['label']=balanced_data['Category'].map({'ham':0,'spam':1})"
   ]
  },
  {
   "cell_type": "code",
   "execution_count": 42,
   "metadata": {
    "execution": {
     "iopub.execute_input": "2021-02-08T08:52:42.181044Z",
     "iopub.status.busy": "2021-02-08T08:52:42.179478Z",
     "iopub.status.idle": "2021-02-08T08:52:42.183828Z",
     "shell.execute_reply": "2021-02-08T08:52:42.184308Z"
    },
    "papermill": {
     "duration": 0.037443,
     "end_time": "2021-02-08T08:52:42.184497",
     "exception": false,
     "start_time": "2021-02-08T08:52:42.147054",
     "status": "completed"
    },
    "tags": []
   },
   "outputs": [],
   "source": [
    "train_msg, test_msg, train_labels, test_labels =train_test_split(balanced_data['Message'],balanced_data['label'],test_size=0.2,random_state=434)"
   ]
  },
  {
   "cell_type": "markdown",
   "metadata": {},
   "source": [
    "#Tokenisierung und Padding"
   ]
  },
  {
   "cell_type": "code",
   "execution_count": 43,
   "metadata": {
    "execution": {
     "iopub.execute_input": "2021-02-08T08:52:42.244199Z",
     "iopub.status.busy": "2021-02-08T08:52:42.242382Z",
     "iopub.status.idle": "2021-02-08T08:52:42.247590Z",
     "shell.execute_reply": "2021-02-08T08:52:42.248157Z"
    },
    "papermill": {
     "duration": 0.036887,
     "end_time": "2021-02-08T08:52:42.248341",
     "exception": false,
     "start_time": "2021-02-08T08:52:42.211454",
     "status": "completed"
    },
    "tags": []
   },
   "outputs": [],
   "source": [
    "vocab_size=500\n",
    "oov_tok='<OOV>'\n",
    "max_len=50"
   ]
  },
  {
   "cell_type": "code",
   "execution_count": 44,
   "metadata": {
    "execution": {
     "iopub.execute_input": "2021-02-08T08:52:42.309099Z",
     "iopub.status.busy": "2021-02-08T08:52:42.308437Z",
     "iopub.status.idle": "2021-02-08T08:52:42.352080Z",
     "shell.execute_reply": "2021-02-08T08:52:42.352875Z"
    },
    "papermill": {
     "duration": 0.079236,
     "end_time": "2021-02-08T08:52:42.353061",
     "exception": false,
     "start_time": "2021-02-08T08:52:42.273825",
     "status": "completed"
    },
    "tags": []
   },
   "outputs": [],
   "source": [
    "#Vorverarbeitung, um aus Text Token zu machen\n",
    "token=Tokenizer(num_words=vocab_size,oov_token=oov_tok)\n",
    "token.fit_on_texts(train_msg)"
   ]
  },
  {
   "cell_type": "code",
   "execution_count": 45,
   "metadata": {
    "execution": {
     "iopub.execute_input": "2021-02-08T08:52:42.424170Z",
     "iopub.status.busy": "2021-02-08T08:52:42.418903Z",
     "iopub.status.idle": "2021-02-08T08:52:42.457324Z",
     "shell.execute_reply": "2021-02-08T08:52:42.456777Z"
    },
    "papermill": {
     "duration": 0.078164,
     "end_time": "2021-02-08T08:52:42.457473",
     "exception": false,
     "start_time": "2021-02-08T08:52:42.379309",
     "status": "completed"
    },
    "tags": []
   },
   "outputs": [
    {
     "data": {
      "text/plain": [
       "{'<OOV>': 1,\n",
       " 'to': 2,\n",
       " 'you': 3,\n",
       " 'a': 4,\n",
       " 'i': 5,\n",
       " 'call': 6,\n",
       " 'the': 7,\n",
       " 'your': 8,\n",
       " 'u': 9,\n",
       " 'for': 10,\n",
       " '2': 11,\n",
       " 'and': 12,\n",
       " 'is': 13,\n",
       " 'now': 14,\n",
       " 'free': 15,\n",
       " 'or': 16,\n",
       " 'in': 17,\n",
       " 'on': 18,\n",
       " 'have': 19,\n",
       " 'ur': 20,\n",
       " 'of': 21,\n",
       " 'txt': 22,\n",
       " '4': 23,\n",
       " 'me': 24,\n",
       " 'are': 25,\n",
       " 'with': 26,\n",
       " 'from': 27,\n",
       " 'text': 28,\n",
       " 'this': 29,\n",
       " 'my': 30,\n",
       " 'get': 31,\n",
       " 'stop': 32,\n",
       " 'mobile': 33,\n",
       " 'just': 34,\n",
       " 'no': 35,\n",
       " 'it': 36,\n",
       " 'will': 37,\n",
       " 'reply': 38,\n",
       " 'only': 39,\n",
       " 'be': 40,\n",
       " 'that': 41,\n",
       " 'claim': 42,\n",
       " 'www': 43,\n",
       " 'not': 44,\n",
       " 'out': 45,\n",
       " 'do': 46,\n",
       " 'send': 47,\n",
       " 'new': 48,\n",
       " 'so': 49,\n",
       " 'our': 50,\n",
       " 'we': 51,\n",
       " 'but': 52,\n",
       " 'at': 53,\n",
       " 'prize': 54,\n",
       " 'can': 55,\n",
       " 'cash': 56,\n",
       " 'all': 57,\n",
       " 'if': 58,\n",
       " \"i'm\": 59,\n",
       " 'who': 60,\n",
       " '150p': 61,\n",
       " 'uk': 62,\n",
       " 'go': 63,\n",
       " '1': 64,\n",
       " 'nokia': 65,\n",
       " 'please': 66,\n",
       " 'win': 67,\n",
       " 't': 68,\n",
       " 'tone': 69,\n",
       " 'won': 70,\n",
       " 'week': 71,\n",
       " 'com': 72,\n",
       " 'msg': 73,\n",
       " '50': 74,\n",
       " 'was': 75,\n",
       " 'day': 76,\n",
       " 'up': 77,\n",
       " 'phone': 78,\n",
       " 'by': 79,\n",
       " 'been': 80,\n",
       " 'what': 81,\n",
       " 'want': 82,\n",
       " 'service': 83,\n",
       " 'know': 84,\n",
       " 'urgent': 85,\n",
       " 'lt': 86,\n",
       " 'gt': 87,\n",
       " 'contact': 88,\n",
       " 'when': 89,\n",
       " 'co': 90,\n",
       " 'has': 91,\n",
       " '18': 92,\n",
       " '16': 93,\n",
       " 'min': 94,\n",
       " 'message': 95,\n",
       " 'r': 96,\n",
       " 'customer': 97,\n",
       " 'good': 98,\n",
       " 'per': 99,\n",
       " 'how': 100,\n",
       " 'guaranteed': 101,\n",
       " 'time': 102,\n",
       " 'as': 103,\n",
       " 'love': 104,\n",
       " 'like': 105,\n",
       " 'then': 106,\n",
       " 'line': 107,\n",
       " 'c': 108,\n",
       " 'any': 109,\n",
       " 'cs': 110,\n",
       " 'number': 111,\n",
       " '3': 112,\n",
       " 'find': 113,\n",
       " 'chat': 114,\n",
       " 'back': 115,\n",
       " 'got': 116,\n",
       " 'draw': 117,\n",
       " 'its': 118,\n",
       " 'am': 119,\n",
       " 'awarded': 120,\n",
       " 'ü': 121,\n",
       " 'camera': 122,\n",
       " 'today': 123,\n",
       " 'dont': 124,\n",
       " \"don't\": 125,\n",
       " 'ok': 126,\n",
       " 'more': 127,\n",
       " 'every': 128,\n",
       " 'need': 129,\n",
       " 'sorry': 130,\n",
       " '£1': 131,\n",
       " 'there': 132,\n",
       " '£1000': 133,\n",
       " 'about': 134,\n",
       " 'mins': 135,\n",
       " 'wk': 136,\n",
       " 'had': 137,\n",
       " 'great': 138,\n",
       " 'hi': 139,\n",
       " 'receive': 140,\n",
       " \"i'll\": 141,\n",
       " 'pls': 142,\n",
       " 'sms': 143,\n",
       " 'holiday': 144,\n",
       " 'po': 145,\n",
       " 'latest': 146,\n",
       " 'tell': 147,\n",
       " 'n': 148,\n",
       " 'rate': 149,\n",
       " 'yes': 150,\n",
       " 'see': 151,\n",
       " 'they': 152,\n",
       " 'video': 153,\n",
       " 'box': 154,\n",
       " 'hey': 155,\n",
       " 'come': 156,\n",
       " 'chance': 157,\n",
       " 'shows': 158,\n",
       " 'dear': 159,\n",
       " 'apply': 160,\n",
       " 'thanks': 161,\n",
       " 'award': 162,\n",
       " '150ppm': 163,\n",
       " 'landline': 164,\n",
       " 'tones': 165,\n",
       " 'an': 166,\n",
       " 's': 167,\n",
       " 'code': 168,\n",
       " '1st': 169,\n",
       " 'still': 170,\n",
       " 'live': 171,\n",
       " 'special': 172,\n",
       " 'network': 173,\n",
       " 'ringtone': 174,\n",
       " 'make': 175,\n",
       " 'give': 176,\n",
       " 'orange': 177,\n",
       " 'take': 178,\n",
       " 'e': 179,\n",
       " 'b': 180,\n",
       " 'selected': 181,\n",
       " 'collect': 182,\n",
       " 'next': 183,\n",
       " 'miss': 184,\n",
       " 'da': 185,\n",
       " 'weekly': 186,\n",
       " 'best': 187,\n",
       " 'cost': 188,\n",
       " '500': 189,\n",
       " '£100': 190,\n",
       " 'valid': 191,\n",
       " 'music': 192,\n",
       " 'mob': 193,\n",
       " '10p': 194,\n",
       " 'play': 195,\n",
       " 'offer': 196,\n",
       " 'name': 197,\n",
       " 'over': 198,\n",
       " 'her': 199,\n",
       " 'entry': 200,\n",
       " 'hope': 201,\n",
       " 'life': 202,\n",
       " 'one': 203,\n",
       " '8007': 204,\n",
       " 'national': 205,\n",
       " 'going': 206,\n",
       " 'last': 207,\n",
       " 'some': 208,\n",
       " 'home': 209,\n",
       " \"it's\": 210,\n",
       " 'collection': 211,\n",
       " 'well': 212,\n",
       " 'he': 213,\n",
       " 'vouchers': 214,\n",
       " 'd': 215,\n",
       " '000': 216,\n",
       " 'later': 217,\n",
       " 'think': 218,\n",
       " 'why': 219,\n",
       " 'real': 220,\n",
       " 'texts': 221,\n",
       " 'end': 222,\n",
       " 'oh': 223,\n",
       " 'where': 224,\n",
       " 'games': 225,\n",
       " 'club': 226,\n",
       " 'trying': 227,\n",
       " '£500': 228,\n",
       " 'help': 229,\n",
       " 'work': 230,\n",
       " 'lor': 231,\n",
       " 'http': 232,\n",
       " 'tomorrow': 233,\n",
       " 'poly': 234,\n",
       " '5': 235,\n",
       " 'should': 236,\n",
       " 'after': 237,\n",
       " 'delivery': 238,\n",
       " '10': 239,\n",
       " '86688': 240,\n",
       " 'happy': 241,\n",
       " 'join': 242,\n",
       " 'night': 243,\n",
       " 'todays': 244,\n",
       " 'price': 245,\n",
       " 'waiting': 246,\n",
       " 'someone': 247,\n",
       " 'sae': 248,\n",
       " 'word': 249,\n",
       " 'update': 250,\n",
       " 'morning': 251,\n",
       " \"c's\": 252,\n",
       " 'im': 253,\n",
       " 'bonus': 254,\n",
       " 'keep': 255,\n",
       " 'land': 256,\n",
       " 'gift': 257,\n",
       " 'bt': 258,\n",
       " 'x': 259,\n",
       " 'g': 260,\n",
       " 'guess': 261,\n",
       " 'enjoy': 262,\n",
       " 'sent': 263,\n",
       " '£2000': 264,\n",
       " 'speak': 265,\n",
       " 'opt': 266,\n",
       " 'she': 267,\n",
       " 'voucher': 268,\n",
       " 'dating': 269,\n",
       " '6': 270,\n",
       " 'await': 271,\n",
       " 'double': 272,\n",
       " 'colour': 273,\n",
       " '£3': 274,\n",
       " 'sexy': 275,\n",
       " 'operator': 276,\n",
       " '£5000': 277,\n",
       " '100': 278,\n",
       " 'services': 279,\n",
       " '7': 280,\n",
       " 'friend': 281,\n",
       " 'first': 282,\n",
       " 'top': 283,\n",
       " '12hrs': 284,\n",
       " 'xmas': 285,\n",
       " 'k': 286,\n",
       " '750': 287,\n",
       " 'use': 288,\n",
       " 'yours': 289,\n",
       " 'here': 290,\n",
       " 'attempt': 291,\n",
       " 'which': 292,\n",
       " 'babe': 293,\n",
       " 'cos': 294,\n",
       " 'mobileupd8': 295,\n",
       " 'hot': 296,\n",
       " 'being': 297,\n",
       " 'let': 298,\n",
       " 'quiz': 299,\n",
       " \"can't\": 300,\n",
       " '08000930705': 301,\n",
       " 'account': 302,\n",
       " 'order': 303,\n",
       " 'private': 304,\n",
       " 'much': 305,\n",
       " 'soon': 306,\n",
       " 'content': 307,\n",
       " 'part': 308,\n",
       " '£350': 309,\n",
       " 'half': 310,\n",
       " 'unsubscribe': 311,\n",
       " 'talk': 312,\n",
       " 'wat': 313,\n",
       " 'ltd': 314,\n",
       " 'fun': 315,\n",
       " 'tried': 316,\n",
       " 'way': 317,\n",
       " 'row': 318,\n",
       " 'friends': 319,\n",
       " 'could': 320,\n",
       " 'pic': 321,\n",
       " '2nd': 322,\n",
       " 'days': 323,\n",
       " 'gud': 324,\n",
       " '£250': 325,\n",
       " 'off': 326,\n",
       " 'doing': 327,\n",
       " 'hello': 328,\n",
       " 'ask': 329,\n",
       " 'camcorder': 330,\n",
       " 'charged': 331,\n",
       " 'meet': 332,\n",
       " 'yeah': 333,\n",
       " 'm': 334,\n",
       " 'worth': 335,\n",
       " 'too': 336,\n",
       " 'us': 337,\n",
       " 'congratulations': 338,\n",
       " 'wkly': 339,\n",
       " '87066': 340,\n",
       " 'them': 341,\n",
       " 'reveal': 342,\n",
       " 'cant': 343,\n",
       " 'cool': 344,\n",
       " 'weekend': 345,\n",
       " 'rental': 346,\n",
       " 'try': 347,\n",
       " 'auction': 348,\n",
       " 'freemsg': 349,\n",
       " 'pounds': 350,\n",
       " 'mates': 351,\n",
       " 'suite342': 352,\n",
       " '2lands': 353,\n",
       " 'did': 354,\n",
       " 'class': 355,\n",
       " 'month': 356,\n",
       " '08000839402': 357,\n",
       " 'care': 358,\n",
       " 'phones': 359,\n",
       " 'amp': 360,\n",
       " 'statement': 361,\n",
       " 'points': 362,\n",
       " 'identifier': 363,\n",
       " 'expires': 364,\n",
       " 'final': 365,\n",
       " 'tv': 366,\n",
       " 'check': 367,\n",
       " 'wap': 368,\n",
       " 'really': 369,\n",
       " 'each': 370,\n",
       " 'wish': 371,\n",
       " 'secret': 372,\n",
       " 'info': 373,\n",
       " '£2': 374,\n",
       " 'easy': 375,\n",
       " 'winner': 376,\n",
       " 'mobiles': 377,\n",
       " 'feel': 378,\n",
       " 'start': 379,\n",
       " 'nice': 380,\n",
       " 'sure': 381,\n",
       " 'date': 382,\n",
       " 'money': 383,\n",
       " 'pics': 384,\n",
       " 'xxx': 385,\n",
       " '0800': 386,\n",
       " 'him': 387,\n",
       " 'year': 388,\n",
       " 'ringtones': 389,\n",
       " 'would': 390,\n",
       " 'custcare': 391,\n",
       " 'rates': 392,\n",
       " 'between': 393,\n",
       " 'looking': 394,\n",
       " 'thing': 395,\n",
       " 'were': 396,\n",
       " 'other': 397,\n",
       " 'his': 398,\n",
       " 'question': 399,\n",
       " '2003': 400,\n",
       " '800': 401,\n",
       " 'savamob': 402,\n",
       " 'offers': 403,\n",
       " 'place': 404,\n",
       " 'f': 405,\n",
       " 'eg': 406,\n",
       " 'late': 407,\n",
       " 'admirer': 408,\n",
       " 'thinks': 409,\n",
       " 'right': 410,\n",
       " 'reward': 411,\n",
       " 'net': 412,\n",
       " 'tc': 413,\n",
       " 'direct': 414,\n",
       " 'calls': 415,\n",
       " 'already': 416,\n",
       " 'valued': 417,\n",
       " 'important': 418,\n",
       " 'txts': 419,\n",
       " 'same': 420,\n",
       " 'say': 421,\n",
       " 'messages': 422,\n",
       " 'call2optout': 423,\n",
       " 'around': 424,\n",
       " 'shop': 425,\n",
       " 'anything': 426,\n",
       " 'buy': 427,\n",
       " 'caller': 428,\n",
       " '03': 429,\n",
       " 'std': 430,\n",
       " 'again': 431,\n",
       " 'minutes': 432,\n",
       " 'un': 433,\n",
       " 'redeemed': 434,\n",
       " 'does': 435,\n",
       " 'charge': 436,\n",
       " 'pick': 437,\n",
       " 'numbers': 438,\n",
       " 'said': 439,\n",
       " 'anytime': 440,\n",
       " 'busy': 441,\n",
       " 'job': 442,\n",
       " 're': 443,\n",
       " 'gr8': 444,\n",
       " 'went': 445,\n",
       " 'shopping': 446,\n",
       " 'may': 447,\n",
       " 'meeting': 448,\n",
       " 'pobox': 449,\n",
       " 'things': 450,\n",
       " 'w1j6hl': 451,\n",
       " 'very': 452,\n",
       " 'lol': 453,\n",
       " 'also': 454,\n",
       " 'fancy': 455,\n",
       " 'ntt': 456,\n",
       " 'true': 457,\n",
       " 'player': 458,\n",
       " 'balance': 459,\n",
       " 'currently': 460,\n",
       " 'never': 461,\n",
       " 'thk': 462,\n",
       " 'asked': 463,\n",
       " 'sex': 464,\n",
       " 'game': 465,\n",
       " 'congrats': 466,\n",
       " 'either': 467,\n",
       " 'house': 468,\n",
       " 'ts': 469,\n",
       " 'complimentary': 470,\n",
       " 'charity': 471,\n",
       " 'missing': 472,\n",
       " 'many': 473,\n",
       " 'even': 474,\n",
       " 'yr': 475,\n",
       " 'sir': 476,\n",
       " 'look': 477,\n",
       " 'matches': 478,\n",
       " 'comp': 479,\n",
       " 'ipod': 480,\n",
       " 'having': 481,\n",
       " 'visit': 482,\n",
       " 'ac': 483,\n",
       " 'while': 484,\n",
       " '04': 485,\n",
       " '£150': 486,\n",
       " 'discount': 487,\n",
       " 'getzed': 488,\n",
       " 'long': 489,\n",
       " 'ldew': 490,\n",
       " 'luv': 491,\n",
       " 'ready': 492,\n",
       " 'weeks': 493,\n",
       " 'these': 494,\n",
       " \"that's\": 495,\n",
       " 'ending': 496,\n",
       " 'wanna': 497,\n",
       " 'before': 498,\n",
       " 'inc': 499,\n",
       " 'must': 500,\n",
       " 'plus': 501,\n",
       " 'digital': 502,\n",
       " 'dogging': 503,\n",
       " '11': 504,\n",
       " 'ldn': 505,\n",
       " 'down': 506,\n",
       " 'told': 507,\n",
       " 'always': 508,\n",
       " 'age': 509,\n",
       " \"i've\": 510,\n",
       " 'hg': 511,\n",
       " 'age16': 512,\n",
       " 'post': 513,\n",
       " 'answer': 514,\n",
       " 'area': 515,\n",
       " '08712460324': 516,\n",
       " 'terms': 517,\n",
       " \"t's\": 518,\n",
       " 'england': 519,\n",
       " 'v': 520,\n",
       " '87077': 521,\n",
       " 'ip4': 522,\n",
       " '5we': 523,\n",
       " 'man': 524,\n",
       " 'guys': 525,\n",
       " 'id': 526,\n",
       " 'motorola': 527,\n",
       " 'ya': 528,\n",
       " 'saturday': 529,\n",
       " '20p': 530,\n",
       " 'polys': 531,\n",
       " 'choose': 532,\n",
       " 'representative': 533,\n",
       " 'match': 534,\n",
       " 'details': 535,\n",
       " 'msgs': 536,\n",
       " 'credit': 537,\n",
       " 'xx': 538,\n",
       " '00': 539,\n",
       " 'mind': 540,\n",
       " 'eat': 541,\n",
       " '£800': 542,\n",
       " 'cd': 543,\n",
       " 'welcome': 544,\n",
       " 'away': 545,\n",
       " \"you're\": 546,\n",
       " 'enough': 547,\n",
       " 'y': 548,\n",
       " 'little': 549,\n",
       " 'haha': 550,\n",
       " 'nyt': 551,\n",
       " 'specially': 552,\n",
       " '£10': 553,\n",
       " 'enter': 554,\n",
       " 'getting': 555,\n",
       " 'pm': 556,\n",
       " 'txting': 557,\n",
       " 'big': 558,\n",
       " 'user': 559,\n",
       " 'lucky': 560,\n",
       " 'log': 561,\n",
       " \"there's\": 562,\n",
       " 'into': 563,\n",
       " 'maybe': 564,\n",
       " '150': 565,\n",
       " 'years': 566,\n",
       " 'coming': 567,\n",
       " '£200': 568,\n",
       " 'store': 569,\n",
       " 'hmv': 570,\n",
       " 'del': 571,\n",
       " 'within': 572,\n",
       " 'correct': 573,\n",
       " 'dude': 574,\n",
       " 'den': 575,\n",
       " 'wan': 576,\n",
       " 'two': 577,\n",
       " 'wait': 578,\n",
       " 'made': 579,\n",
       " 'flag': 580,\n",
       " 'eve': 581,\n",
       " 'news': 582,\n",
       " 'bluetooth': 583,\n",
       " 'hear': 584,\n",
       " 'bx420': 585,\n",
       " '50p': 586,\n",
       " 'sony': 587,\n",
       " 'sunshine': 588,\n",
       " '0870': 589,\n",
       " 'called': 590,\n",
       " 'girl': 591,\n",
       " 'summer': 592,\n",
       " 'dream': 593,\n",
       " 'trip': 594,\n",
       " 'rcvd': 595,\n",
       " '08718720201': 596,\n",
       " 'pa': 597,\n",
       " 'birthday': 598,\n",
       " 'freephone': 599,\n",
       " 'local': 600,\n",
       " 'office': 601,\n",
       " 'arrive': 602,\n",
       " 'bid': 603,\n",
       " 'girls': 604,\n",
       " 'bout': 605,\n",
       " '85023': 606,\n",
       " 'pobox84': 607,\n",
       " '2004': 608,\n",
       " '06': 609,\n",
       " 'sleep': 610,\n",
       " 'wants': 611,\n",
       " 'tncs': 612,\n",
       " 'brings': 613,\n",
       " 'minute': 614,\n",
       " 'vodafone': 615,\n",
       " 'since': 616,\n",
       " 'information': 617,\n",
       " 'room': 618,\n",
       " '08712300220': 619,\n",
       " 'standard': 620,\n",
       " 'credits': 621,\n",
       " 'flights': 622,\n",
       " 'biz': 623,\n",
       " 'tickets': 624,\n",
       " 'book': 625,\n",
       " 'sub': 626,\n",
       " 'luck': 627,\n",
       " '3030': 628,\n",
       " 'no1': 629,\n",
       " 'invited': 630,\n",
       " 'onto': 631,\n",
       " 'fantastic': 632,\n",
       " 'awaiting': 633,\n",
       " 'access': 634,\n",
       " 'dad': 635,\n",
       " 'o2': 636,\n",
       " 'replying': 637,\n",
       " 'vary': 638,\n",
       " 'ill': 639,\n",
       " 'spree': 640,\n",
       " 'nothing': 641,\n",
       " 'address': 642,\n",
       " 'maximize': 643,\n",
       " 'until': 644,\n",
       " 'people': 645,\n",
       " 'sipix': 646,\n",
       " 'pc': 647,\n",
       " 'gay': 648,\n",
       " 'done': 649,\n",
       " 'costa': 650,\n",
       " 'sol': 651,\n",
       " 'sk38xh': 652,\n",
       " 'something': 653,\n",
       " 'pay': 654,\n",
       " 'hit': 655,\n",
       " 'bit': 656,\n",
       " 'calling': 657,\n",
       " 'few': 658,\n",
       " 'email': 659,\n",
       " '20': 660,\n",
       " 'ans': 661,\n",
       " '02': 662,\n",
       " 'thought': 663,\n",
       " 'yo': 664,\n",
       " 'zed': 665,\n",
       " 'bad': 666,\n",
       " 'pass': 667,\n",
       " '150pm': 668,\n",
       " 'hour': 669,\n",
       " 'horny': 670,\n",
       " '25p': 671,\n",
       " 'sp': 672,\n",
       " 'yet': 673,\n",
       " 'holder': 674,\n",
       " 'god': 675,\n",
       " '1327': 676,\n",
       " 'croydon': 677,\n",
       " 'cr9': 678,\n",
       " '5wb': 679,\n",
       " 'link': 680,\n",
       " 'ring': 681,\n",
       " 'fri': 682,\n",
       " 'reach': 683,\n",
       " 'logo': 684,\n",
       " 'leh': 685,\n",
       " 'arcade': 686,\n",
       " 'st': 687,\n",
       " 'cum': 688,\n",
       " 'till': 689,\n",
       " 'asap': 690,\n",
       " 'sky': 691,\n",
       " '11mths': 692,\n",
       " 'partner': 693,\n",
       " 'wont': 694,\n",
       " '3510i': 695,\n",
       " 'full': 696,\n",
       " 'dvd': 697,\n",
       " 'greet': 698,\n",
       " 'member': 699,\n",
       " 'singles': 700,\n",
       " 'frnd': 701,\n",
       " '62468': 702,\n",
       " 'themob': 703,\n",
       " 'sport': 704,\n",
       " 'crazy': 705,\n",
       " 'princess': 706,\n",
       " 'voda': 707,\n",
       " 'quoting': 708,\n",
       " 'goto': 709,\n",
       " 'comuk': 710,\n",
       " 'extra': 711,\n",
       " 'hours': 712,\n",
       " 'computer': 713,\n",
       " 'picked': 714,\n",
       " '2optout': 715,\n",
       " 'txtauction': 716,\n",
       " 'fine': 717,\n",
       " 'watching': 718,\n",
       " 'guy': 719,\n",
       " 'unsub': 720,\n",
       " \"we're\": 721,\n",
       " 'tonight': 722,\n",
       " '36504': 723,\n",
       " \"u've\": 724,\n",
       " 'xchat': 725,\n",
       " 'following': 726,\n",
       " 'urawinner': 727,\n",
       " 'surprise': 728,\n",
       " 'than': 729,\n",
       " 'via': 730,\n",
       " 'supposed': 731,\n",
       " 'loan': 732,\n",
       " '10am': 733,\n",
       " 'hurt': 734,\n",
       " 'stay': 735,\n",
       " 'pound': 736,\n",
       " 'contacted': 737,\n",
       " 'entered': 738,\n",
       " 'unlimited': 739,\n",
       " '8': 740,\n",
       " 'cc': 741,\n",
       " '28': 742,\n",
       " 'better': 743,\n",
       " 'loyalty': 744,\n",
       " 'anyway': 745,\n",
       " 'conditions': 746,\n",
       " \"uk's\": 747,\n",
       " 'aight': 748,\n",
       " '09050090044': 749,\n",
       " 'toclaim': 750,\n",
       " 'pobox334': 751,\n",
       " 'stockport': 752,\n",
       " 'cost£1': 753,\n",
       " 'max10mins': 754,\n",
       " 'okay': 755,\n",
       " '1x150p': 756,\n",
       " 'ho': 757,\n",
       " 'optout': 758,\n",
       " 'linerental': 759,\n",
       " 'another': 760,\n",
       " 'online': 761,\n",
       " 'took': 762,\n",
       " 'announcement': 763,\n",
       " 'etc': 764,\n",
       " 'heart': 765,\n",
       " 'park': 766,\n",
       " \"won't\": 767,\n",
       " 'subscription': 768,\n",
       " 'believe': 769,\n",
       " 'revealed': 770,\n",
       " 'show': 771,\n",
       " '12': 772,\n",
       " 'starts': 773,\n",
       " '82277': 774,\n",
       " '80062': 775,\n",
       " 'fantasies': 776,\n",
       " '08707509020': 777,\n",
       " 'close': 778,\n",
       " 'immediately': 779,\n",
       " 'leave': 780,\n",
       " \"what's\": 781,\n",
       " 'takes': 782,\n",
       " 'car': 783,\n",
       " '3g': 784,\n",
       " 'click': 785,\n",
       " 'stuff': 786,\n",
       " 'wid': 787,\n",
       " 'fantasy': 788,\n",
       " 'once': 789,\n",
       " 'though': 790,\n",
       " 'll': 791,\n",
       " 'bed': 792,\n",
       " 'remember': 793,\n",
       " 'card': 794,\n",
       " 'huh': 795,\n",
       " '40gb': 796,\n",
       " 'entitled': 797,\n",
       " 'download': 798,\n",
       " '83600': 799,\n",
       " 'fone': 800,\n",
       " 'original': 801,\n",
       " '3gbp': 802,\n",
       " 'action': 803,\n",
       " 'ever': 804,\n",
       " '300': 805,\n",
       " 'hoping': 806,\n",
       " 'break': 807,\n",
       " \"we'll\": 808,\n",
       " 'reference': 809,\n",
       " 'red': 810,\n",
       " 'everyone': 811,\n",
       " 'gone': 812,\n",
       " 'wife': 813,\n",
       " '24': 814,\n",
       " 'm263uz': 815,\n",
       " 'town': 816,\n",
       " 'adult': 817,\n",
       " 'tuition': 818,\n",
       " 'flower': 819,\n",
       " 'inviting': 820,\n",
       " 'eerie': 821,\n",
       " '4u': 822,\n",
       " 'rply': 823,\n",
       " 'pobox36504w45wq': 824,\n",
       " 'selection': 825,\n",
       " '440': 826,\n",
       " 'cds': 827,\n",
       " 'com1win150ppmx3age16': 828,\n",
       " 'evening': 829,\n",
       " 'lots': 830,\n",
       " '2nite': 831,\n",
       " \"you've\": 832,\n",
       " 'months': 833,\n",
       " 'sept': 834,\n",
       " 'king': 835,\n",
       " 'b4': 836,\n",
       " '£400': 837,\n",
       " 'w1': 838,\n",
       " 'finish': 839,\n",
       " 'bath': 840,\n",
       " 'movie': 841,\n",
       " 'found': 842,\n",
       " 'boys': 843,\n",
       " 'vip': 844,\n",
       " 'jamster': 845,\n",
       " 'laid': 846,\n",
       " 'locations': 847,\n",
       " 'ec2a': 848,\n",
       " 'everything': 849,\n",
       " 'seems': 850,\n",
       " '7pm': 851,\n",
       " 'dun': 852,\n",
       " 'w45wq': 853,\n",
       " 'norm150p': 854,\n",
       " 'sign': 855,\n",
       " 'msgrcvdhg': 856,\n",
       " 'review': 857,\n",
       " 'driving': 858,\n",
       " 'fixed': 859,\n",
       " '85': 860,\n",
       " 'left': 861,\n",
       " '87239': 862,\n",
       " 'flirt': 863,\n",
       " 'recd': 864,\n",
       " 'sell': 865,\n",
       " 'lar': 866,\n",
       " 'alert': 867,\n",
       " 'hurry': 868,\n",
       " 'bored': 869,\n",
       " '87131': 870,\n",
       " 'sale': 871,\n",
       " 'refused': 872,\n",
       " \"'help'\": 873,\n",
       " 'starting': 874,\n",
       " '250': 875,\n",
       " 'questions': 876,\n",
       " '9': 877,\n",
       " 'simple': 878,\n",
       " '09061221066': 879,\n",
       " 'fromm': 880,\n",
       " '60p': 881,\n",
       " 'says': 882,\n",
       " 'confirm': 883,\n",
       " 'early': 884,\n",
       " 'okie': 885,\n",
       " 'liao': 886,\n",
       " 'w': 887,\n",
       " 'quite': 888,\n",
       " 'wif': 889,\n",
       " 'jay': 890,\n",
       " 'missed': 891,\n",
       " 'cause': 892,\n",
       " 'official': 893,\n",
       " 'alright': 894,\n",
       " 'santa': 895,\n",
       " 'team': 896,\n",
       " 'second': 897,\n",
       " 'goes': 898,\n",
       " 'blue': 899,\n",
       " 'support': 900,\n",
       " 'person': 901,\n",
       " '08715705022': 902,\n",
       " 'bahamas': 903,\n",
       " 'cheap': 904,\n",
       " 'lot': 905,\n",
       " \"god's\": 906,\n",
       " 'cust': 907,\n",
       " 'problem': 908,\n",
       " 'listen': 909,\n",
       " 'choice': 910,\n",
       " 'tariffs': 911,\n",
       " '86021': 912,\n",
       " 'porn': 913,\n",
       " 'wanted': 914,\n",
       " '…': 915,\n",
       " 'oso': 916,\n",
       " 'mths': 917,\n",
       " 'ordered': 918,\n",
       " 'oredi': 919,\n",
       " 'came': 920,\n",
       " '0': 921,\n",
       " '08712405020': 922,\n",
       " 'pub': 923,\n",
       " 'comes': 924,\n",
       " '£4': 925,\n",
       " 'polyphonic': 926,\n",
       " 'hl': 927,\n",
       " 'weekends': 928,\n",
       " 'yup': 929,\n",
       " 'leaving': 930,\n",
       " 'semester': 931,\n",
       " 'noe': 932,\n",
       " 'bloomberg': 933,\n",
       " 'due': 934,\n",
       " 'o': 935,\n",
       " 'wil': 936,\n",
       " 'q': 937,\n",
       " 'sending': 938,\n",
       " 'short': 939,\n",
       " '30': 940,\n",
       " 'wen': 941,\n",
       " 'forwarded': 942,\n",
       " 'til': 943,\n",
       " 'videophones': 944,\n",
       " 'videochat': 945,\n",
       " 'java': 946,\n",
       " 'dload': 947,\n",
       " 'noline': 948,\n",
       " 'rentl': 949,\n",
       " 'children': 950,\n",
       " 'chikku': 951,\n",
       " 'cancel': 952,\n",
       " 'netcollex': 953,\n",
       " 'app': 954,\n",
       " 'working': 955,\n",
       " 'available': 956,\n",
       " '2day': 957,\n",
       " 'calls£1': 958,\n",
       " \"haven't\": 959,\n",
       " 'press': 960,\n",
       " 'smth': 961,\n",
       " 'ppm': 962,\n",
       " 'kick': 963,\n",
       " 'tel': 964,\n",
       " 'mid': 965,\n",
       " 'spook': 966,\n",
       " 'goin': 967,\n",
       " 'pg': 968,\n",
       " 'ntwk': 969,\n",
       " '08001950382': 970,\n",
       " 'tenerife': 971,\n",
       " '£900': 972,\n",
       " '8552': 973,\n",
       " 'textpod': 974,\n",
       " 'ha': 975,\n",
       " '1000s': 976,\n",
       " '80082': 977,\n",
       " 'valentines': 978,\n",
       " 'dnt': 979,\n",
       " 'forget': 980,\n",
       " '0808': 981,\n",
       " '145': 982,\n",
       " '4742': 983,\n",
       " '9am': 984,\n",
       " '11pm': 985,\n",
       " 'pod': 986,\n",
       " 'beyond': 987,\n",
       " 'deliveredtomorrow': 988,\n",
       " 'whats': 989,\n",
       " '80488': 990,\n",
       " 'together': 991,\n",
       " 'befor': 992,\n",
       " 'kind': 993,\n",
       " 'cheers': 994,\n",
       " 'th': 995,\n",
       " 'subs': 996,\n",
       " '05': 997,\n",
       " 'train': 998,\n",
       " 'exciting': 999,\n",
       " '84025': 1000,\n",
       " ...}"
      ]
     },
     "execution_count": 45,
     "metadata": {},
     "output_type": "execute_result"
    }
   ],
   "source": [
    "word_index=token.word_index\n",
    "word_index"
   ]
  },
  {
   "cell_type": "code",
   "execution_count": 46,
   "metadata": {
    "execution": {
     "iopub.execute_input": "2021-02-08T08:52:42.527342Z",
     "iopub.status.busy": "2021-02-08T08:52:42.521628Z",
     "iopub.status.idle": "2021-02-08T08:52:42.557928Z",
     "shell.execute_reply": "2021-02-08T08:52:42.557207Z"
    },
    "papermill": {
     "duration": 0.075678,
     "end_time": "2021-02-08T08:52:42.558076",
     "exception": false,
     "start_time": "2021-02-08T08:52:42.482398",
     "status": "completed"
    },
    "tags": []
   },
   "outputs": [],
   "source": [
    "padding_type='post'\n",
    "truncate_type='post'\n",
    "Trainning_seq=token.texts_to_sequences(train_msg)\n",
    "Trainning_pad=pad_sequences(Trainning_seq,maxlen=50,padding=padding_type,truncating=truncate_type)"
   ]
  },
  {
   "cell_type": "code",
   "execution_count": 47,
   "metadata": {
    "execution": {
     "iopub.execute_input": "2021-02-08T08:52:42.631619Z",
     "iopub.status.busy": "2021-02-08T08:52:42.630750Z",
     "iopub.status.idle": "2021-02-08T08:52:42.638342Z",
     "shell.execute_reply": "2021-02-08T08:52:42.637496Z"
    },
    "papermill": {
     "duration": 0.052667,
     "end_time": "2021-02-08T08:52:42.638537",
     "exception": false,
     "start_time": "2021-02-08T08:52:42.585870",
     "status": "completed"
    },
    "tags": []
   },
   "outputs": [],
   "source": [
    "Testing_seq=token.texts_to_sequences(test_msg)\n",
    "Testing_pad=pad_sequences(Testing_seq,maxlen=50,padding=padding_type,truncating=truncate_type)"
   ]
  },
  {
   "cell_type": "markdown",
   "metadata": {},
   "source": [
    "#Modelldefinition und Training"
   ]
  },
  {
   "cell_type": "code",
   "execution_count": 48,
   "metadata": {
    "execution": {
     "iopub.execute_input": "2021-02-08T08:52:42.725283Z",
     "iopub.status.busy": "2021-02-08T08:52:42.723880Z",
     "iopub.status.idle": "2021-02-08T08:52:42.884744Z",
     "shell.execute_reply": "2021-02-08T08:52:42.882410Z"
    },
    "papermill": {
     "duration": 0.207504,
     "end_time": "2021-02-08T08:52:42.884963",
     "exception": false,
     "start_time": "2021-02-08T08:52:42.677459",
     "status": "completed"
    },
    "tags": []
   },
   "outputs": [],
   "source": [
    "#model\n",
    "model=tf.keras.models.Sequential([tf.keras.layers.Embedding(vocab_size,16,input_length=50),\n",
    "                                  tf.keras.layers.GlobalAveragePooling1D(),\n",
    "                                  tf.keras.layers.Dense(32,activation='relu'),\n",
    "                                  tf.keras.layers.Dropout(0.3),\n",
    "                                  tf.keras.layers.Dense(1,activation='sigmoid')])\n"
   ]
  },
  {
   "cell_type": "code",
   "execution_count": 50,
   "metadata": {
    "execution": {
     "iopub.execute_input": "2021-02-08T08:52:42.980103Z",
     "iopub.status.busy": "2021-02-08T08:52:42.976901Z",
     "iopub.status.idle": "2021-02-08T08:52:42.988971Z",
     "shell.execute_reply": "2021-02-08T08:52:42.989792Z"
    },
    "papermill": {
     "duration": 0.064816,
     "end_time": "2021-02-08T08:52:42.990022",
     "exception": false,
     "start_time": "2021-02-08T08:52:42.925206",
     "status": "completed"
    },
    "tags": []
   },
   "outputs": [],
   "source": [
    "model.compile(loss=tf.keras.losses.BinaryCrossentropy(from_logits=True),metrics=['accuracy'],optimizer='adam')"
   ]
  },
  {
   "cell_type": "code",
   "execution_count": 51,
   "metadata": {
    "execution": {
     "iopub.execute_input": "2021-02-08T08:52:43.075256Z",
     "iopub.status.busy": "2021-02-08T08:52:43.074252Z",
     "iopub.status.idle": "2021-02-08T08:52:49.773161Z",
     "shell.execute_reply": "2021-02-08T08:52:49.771707Z"
    },
    "papermill": {
     "duration": 6.744687,
     "end_time": "2021-02-08T08:52:49.773321",
     "exception": false,
     "start_time": "2021-02-08T08:52:43.028634",
     "status": "completed"
    },
    "tags": []
   },
   "outputs": [
    {
     "name": "stdout",
     "output_type": "stream",
     "text": [
      "Epoch 1/30\n"
     ]
    },
    {
     "name": "stderr",
     "output_type": "stream",
     "text": [
      "/Library/Frameworks/Python.framework/Versions/3.11/lib/python3.11/site-packages/keras/src/backend.py:5818: UserWarning: \"`binary_crossentropy` received `from_logits=True`, but the `output` argument was produced by a Sigmoid activation and thus does not represent logits. Was this intended?\n",
      "  output, from_logits = _get_logits(\n"
     ]
    },
    {
     "name": "stdout",
     "output_type": "stream",
     "text": [
      "38/38 - 1s - loss: 0.6852 - accuracy: 0.6092 - val_loss: 0.6737 - val_accuracy: 0.7324 - 935ms/epoch - 25ms/step\n",
      "Epoch 2/30\n",
      "38/38 - 0s - loss: 0.6607 - accuracy: 0.8159 - val_loss: 0.6370 - val_accuracy: 0.8194 - 104ms/epoch - 3ms/step\n",
      "Epoch 3/30\n",
      "38/38 - 0s - loss: 0.6139 - accuracy: 0.8444 - val_loss: 0.5720 - val_accuracy: 0.8495 - 103ms/epoch - 3ms/step\n",
      "Epoch 4/30\n",
      "38/38 - 0s - loss: 0.5413 - accuracy: 0.8695 - val_loss: 0.4855 - val_accuracy: 0.8763 - 98ms/epoch - 3ms/step\n",
      "Epoch 5/30\n",
      "38/38 - 0s - loss: 0.4523 - accuracy: 0.8929 - val_loss: 0.4004 - val_accuracy: 0.8896 - 106ms/epoch - 3ms/step\n",
      "Epoch 6/30\n",
      "38/38 - 0s - loss: 0.3738 - accuracy: 0.8996 - val_loss: 0.3327 - val_accuracy: 0.8963 - 146ms/epoch - 4ms/step\n",
      "Epoch 7/30\n",
      "38/38 - 0s - loss: 0.3148 - accuracy: 0.9063 - val_loss: 0.2780 - val_accuracy: 0.9130 - 140ms/epoch - 4ms/step\n",
      "Epoch 8/30\n",
      "38/38 - 0s - loss: 0.2665 - accuracy: 0.9138 - val_loss: 0.2346 - val_accuracy: 0.9264 - 113ms/epoch - 3ms/step\n",
      "Epoch 9/30\n",
      "38/38 - 0s - loss: 0.2263 - accuracy: 0.9305 - val_loss: 0.2020 - val_accuracy: 0.9398 - 115ms/epoch - 3ms/step\n",
      "Epoch 10/30\n",
      "38/38 - 0s - loss: 0.2005 - accuracy: 0.9356 - val_loss: 0.1757 - val_accuracy: 0.9498 - 107ms/epoch - 3ms/step\n",
      "Epoch 11/30\n",
      "38/38 - 0s - loss: 0.1698 - accuracy: 0.9464 - val_loss: 0.1560 - val_accuracy: 0.9599 - 84ms/epoch - 2ms/step\n",
      "Epoch 12/30\n",
      "38/38 - 0s - loss: 0.1560 - accuracy: 0.9540 - val_loss: 0.1396 - val_accuracy: 0.9632 - 82ms/epoch - 2ms/step\n",
      "Epoch 13/30\n",
      "38/38 - 0s - loss: 0.1378 - accuracy: 0.9615 - val_loss: 0.1279 - val_accuracy: 0.9632 - 80ms/epoch - 2ms/step\n",
      "Epoch 14/30\n",
      "38/38 - 0s - loss: 0.1346 - accuracy: 0.9590 - val_loss: 0.1189 - val_accuracy: 0.9699 - 78ms/epoch - 2ms/step\n",
      "Epoch 15/30\n",
      "38/38 - 0s - loss: 0.1110 - accuracy: 0.9682 - val_loss: 0.1112 - val_accuracy: 0.9732 - 80ms/epoch - 2ms/step\n",
      "Epoch 16/30\n",
      "38/38 - 0s - loss: 0.1063 - accuracy: 0.9690 - val_loss: 0.1039 - val_accuracy: 0.9732 - 82ms/epoch - 2ms/step\n",
      "Epoch 17/30\n",
      "38/38 - 0s - loss: 0.1009 - accuracy: 0.9715 - val_loss: 0.0988 - val_accuracy: 0.9732 - 101ms/epoch - 3ms/step\n",
      "Epoch 18/30\n",
      "38/38 - 0s - loss: 0.0925 - accuracy: 0.9732 - val_loss: 0.0940 - val_accuracy: 0.9766 - 114ms/epoch - 3ms/step\n",
      "Epoch 19/30\n",
      "38/38 - 0s - loss: 0.0939 - accuracy: 0.9724 - val_loss: 0.0905 - val_accuracy: 0.9732 - 83ms/epoch - 2ms/step\n",
      "Epoch 20/30\n",
      "38/38 - 0s - loss: 0.0871 - accuracy: 0.9749 - val_loss: 0.0869 - val_accuracy: 0.9766 - 155ms/epoch - 4ms/step\n",
      "Epoch 21/30\n",
      "38/38 - 0s - loss: 0.0871 - accuracy: 0.9732 - val_loss: 0.0841 - val_accuracy: 0.9799 - 116ms/epoch - 3ms/step\n",
      "Epoch 22/30\n",
      "38/38 - 0s - loss: 0.0796 - accuracy: 0.9766 - val_loss: 0.0837 - val_accuracy: 0.9732 - 80ms/epoch - 2ms/step\n",
      "Epoch 23/30\n",
      "38/38 - 0s - loss: 0.0731 - accuracy: 0.9782 - val_loss: 0.0815 - val_accuracy: 0.9799 - 80ms/epoch - 2ms/step\n",
      "Epoch 24/30\n",
      "38/38 - 0s - loss: 0.0743 - accuracy: 0.9791 - val_loss: 0.0805 - val_accuracy: 0.9799 - 75ms/epoch - 2ms/step\n",
      "Epoch 25/30\n",
      "38/38 - 0s - loss: 0.0720 - accuracy: 0.9799 - val_loss: 0.0789 - val_accuracy: 0.9799 - 79ms/epoch - 2ms/step\n",
      "Epoch 26/30\n",
      "38/38 - 0s - loss: 0.0659 - accuracy: 0.9808 - val_loss: 0.0774 - val_accuracy: 0.9833 - 77ms/epoch - 2ms/step\n",
      "Epoch 27/30\n",
      "38/38 - 0s - loss: 0.0676 - accuracy: 0.9799 - val_loss: 0.0763 - val_accuracy: 0.9799 - 76ms/epoch - 2ms/step\n",
      "Epoch 28/30\n",
      "38/38 - 0s - loss: 0.0603 - accuracy: 0.9816 - val_loss: 0.0754 - val_accuracy: 0.9799 - 77ms/epoch - 2ms/step\n",
      "Epoch 29/30\n",
      "38/38 - 0s - loss: 0.0603 - accuracy: 0.9833 - val_loss: 0.0739 - val_accuracy: 0.9833 - 77ms/epoch - 2ms/step\n",
      "Epoch 30/30\n",
      "38/38 - 0s - loss: 0.0574 - accuracy: 0.9866 - val_loss: 0.0763 - val_accuracy: 0.9732 - 77ms/epoch - 2ms/step\n"
     ]
    }
   ],
   "source": [
    "epoch=30\n",
    "early_stop = tf.keras.callbacks.EarlyStopping(monitor='val_loss', patience=3)\n",
    "history=model.fit(Trainning_pad, train_labels ,validation_data=(Testing_pad, test_labels),epochs=epoch,callbacks=[early_stop],verbose=2)"
   ]
  },
  {
   "cell_type": "markdown",
   "metadata": {},
   "source": [
    "#Evaluierung und Visualisierung der Trainingshistorie"
   ]
  },
  {
   "cell_type": "code",
   "execution_count": 52,
   "metadata": {
    "execution": {
     "iopub.execute_input": "2021-02-08T08:52:49.872650Z",
     "iopub.status.busy": "2021-02-08T08:52:49.871961Z",
     "iopub.status.idle": "2021-02-08T08:52:49.954585Z",
     "shell.execute_reply": "2021-02-08T08:52:49.953962Z"
    },
    "papermill": {
     "duration": 0.134887,
     "end_time": "2021-02-08T08:52:49.954736",
     "exception": false,
     "start_time": "2021-02-08T08:52:49.819849",
     "status": "completed"
    },
    "tags": []
   },
   "outputs": [
    {
     "name": "stdout",
     "output_type": "stream",
     "text": [
      "10/10 [==============================] - 0s 1ms/step - loss: 0.0763 - accuracy: 0.9732\n"
     ]
    },
    {
     "data": {
      "text/plain": [
       "[0.07628731429576874, 0.9732441306114197]"
      ]
     },
     "execution_count": 52,
     "metadata": {},
     "output_type": "execute_result"
    }
   ],
   "source": [
    "model.evaluate(Testing_pad, test_labels)"
   ]
  },
  {
   "cell_type": "code",
   "execution_count": 54,
   "metadata": {
    "execution": {
     "iopub.execute_input": "2021-02-08T08:52:50.078227Z",
     "iopub.status.busy": "2021-02-08T08:52:50.077383Z",
     "iopub.status.idle": "2021-02-08T08:52:50.233821Z",
     "shell.execute_reply": "2021-02-08T08:52:50.233100Z"
    },
    "papermill": {
     "duration": 0.228343,
     "end_time": "2021-02-08T08:52:50.233981",
     "exception": false,
     "start_time": "2021-02-08T08:52:50.005638",
     "status": "completed"
    },
    "tags": []
   },
   "outputs": [
    {
     "data": {
      "text/plain": [
       "Text(0.5, 0, 'epoch')"
      ]
     },
     "execution_count": 54,
     "metadata": {},
     "output_type": "execute_result"
    },
    {
     "data": {
      "image/png": "[encoded data removed]",
      "text/plain": [
       "<Figure size 640x480 with 1 Axes>"
      ]
     },
     "metadata": {},
     "output_type": "display_data"
    }
   ],
   "source": [
    "plt.plot(history.history['accuracy'])\n",
    "plt.plot(history.history['val_accuracy'])\n",
    "plt.title('model accuracy')\n",
    "plt.ylabel('accuracy')\n",
    "plt.xlabel('epoch')"
   ]
  },
  {
   "cell_type": "markdown",
   "metadata": {},
   "source": [
    "#Vorhersage"
   ]
  },
  {
   "cell_type": "code",
   "execution_count": 81,
   "metadata": {
    "execution": {
     "iopub.execute_input": "2021-02-08T08:52:50.338915Z",
     "iopub.status.busy": "2021-02-08T08:52:50.338167Z",
     "iopub.status.idle": "2021-02-08T08:52:50.344810Z",
     "shell.execute_reply": "2021-02-08T08:52:50.344115Z"
    },
    "papermill": {
     "duration": 0.060302,
     "end_time": "2021-02-08T08:52:50.344966",
     "exception": false,
     "start_time": "2021-02-08T08:52:50.284664",
     "status": "completed"
    },
    "tags": []
   },
   "outputs": [],
   "source": [
    "predict_msg = [\"Go until jurong point, crazy.. Available only in bugis n great world la e buffet... Cine there got amore wat...\",\n",
    "          \"Thanks for your subscription to Video UK your mobile will be charged £5/month Please confirm by replying YES or NO\",\n",
    "          \"Then we meet at three. I'm looking forward to it. Greetings to grandma\"]"
   ]
  },
  {
   "cell_type": "code",
   "execution_count": 82,
   "metadata": {
    "execution": {
     "iopub.execute_input": "2021-02-08T08:52:50.449689Z",
     "iopub.status.busy": "2021-02-08T08:52:50.447414Z",
     "iopub.status.idle": "2021-02-08T08:52:50.577853Z",
     "shell.execute_reply": "2021-02-08T08:52:50.576072Z"
    },
    "papermill": {
     "duration": 0.18574,
     "end_time": "2021-02-08T08:52:50.578092",
     "exception": false,
     "start_time": "2021-02-08T08:52:50.392352",
     "status": "completed"
    },
    "tags": []
   },
   "outputs": [
    {
     "name": "stdout",
     "output_type": "stream",
     "text": [
      "1/1 [==============================] - 0s 30ms/step\n"
     ]
    },
    {
     "data": {
      "text/plain": [
       "array([[1.4279004e-04],\n",
       "       [9.9808860e-01],\n",
       "       [1.2476720e-02]], dtype=float32)"
      ]
     },
     "execution_count": 82,
     "metadata": {},
     "output_type": "execute_result"
    }
   ],
   "source": [
    "def predict_spam(predict_msg):\n",
    "    new_seq = token.texts_to_sequences(predict_msg)\n",
    "    padded = pad_sequences(new_seq, maxlen =50,\n",
    "                      padding = padding_type,\n",
    "                      truncating='post')\n",
    "    return (model.predict(padded))\n",
    "predict_spam(predict_msg)"
   ]
  },
  {
   "cell_type": "markdown",
   "metadata": {},
   "source": [
    "#Klassifizierung der Vorhersagen"
   ]
  },
  {
   "cell_type": "code",
   "execution_count": 83,
   "metadata": {},
   "outputs": [
    {
     "name": "stdout",
     "output_type": "stream",
     "text": [
      "1/1 [==============================] - 0s 27ms/step\n",
      "Message: Go until jurong point, crazy.. Available only in bugis n great world la e buffet... Cine there got amore wat...\n",
      "Predicted Label: 0 (1 for 'spam', 0 for 'ham')\n",
      "-----------\n",
      "Message: Thanks for your subscription to Video UK your mobile will be charged £5/month Please confirm by replying YES or NO\n",
      "Predicted Label: 1 (1 for 'spam', 0 for 'ham')\n",
      "-----------\n",
      "Message: Then we meet at three. I'm looking forward to it. Greetings to grandma\n",
      "Predicted Label: 0 (1 for 'spam', 0 for 'ham')\n",
      "-----------\n"
     ]
    }
   ],
   "source": [
    "# Variante mit Klassifizierung\n",
    "\n",
    "\n",
    "# Tokenisierung und Padding der neuen Nachrichten\n",
    "predict_seq = token.texts_to_sequences(predict_msg)\n",
    "predict_pad = pad_sequences(predict_seq, maxlen=50, padding=padding_type, truncating=truncate_type)\n",
    "\n",
    "# Vorhersage mit dem trainierten Modell\n",
    "predictions = model.predict(predict_pad)\n",
    "\n",
    "# Ausgabe der Vorhersagen\n",
    "for i, msg in enumerate(predict_msg):\n",
    "    print(f\"Message: {msg}\")\n",
    "    print(f\"Predicted Label: {round(predictions[i][0])} (1 for 'spam', 0 for 'ham')\")\n",
    "    print(\"-----------\")\n"
   ]
  },
  {
   "cell_type": "code",
   "execution_count": 60,
   "metadata": {},
   "outputs": [
    {
     "name": "stdout",
     "output_type": "stream",
     "text": [
      "10/10 [==============================] - 0s 1ms/step - loss: 0.0671 - accuracy: 0.9699\n",
      "Test Loss: 0.06707966327667236, Test Accuracy: 0.9698996543884277\n"
     ]
    }
   ],
   "source": [
    "loss, accuracy = model.evaluate(Testing_pad, test_labels)\n",
    "print(f'Test Loss: {loss}, Test Accuracy: {accuracy}')"
   ]
  },
  {
   "cell_type": "markdown",
   "metadata": {},
   "source": [
    "#Zugabe: Spaß mit Auswertungen"
   ]
  },
  {
   "cell_type": "code",
   "execution_count": 61,
   "metadata": {},
   "outputs": [
    {
     "name": "stdout",
     "output_type": "stream",
     "text": [
      "38/38 [==============================] - 0s 997us/step\n",
      "10/10 [==============================] - 0s 1ms/step\n",
      "Trainingsdaten:\n",
      "Präzision: 1.0000\n",
      "Rückruf: 0.9884\n",
      "F1-Score: 0.9942\n",
      "\n",
      "Testdaten:\n",
      "Präzision: 0.9853\n",
      "Rückruf: 0.9504\n",
      "F1-Score: 0.9675\n"
     ]
    }
   ],
   "source": [
    "from sklearn.metrics import precision_score, recall_score, f1_score\n",
    "\n",
    "# Trainingsdaten vorhersagen\n",
    "train_predictions = model.predict(Trainning_pad)\n",
    "train_predictions = (train_predictions > 0.5).astype(int)\n",
    "\n",
    "# Testdaten vorhersagen\n",
    "test_predictions = model.predict(Testing_pad)\n",
    "test_predictions = (test_predictions > 0.5).astype(int)\n",
    "\n",
    "# Präzision, Rückruf und F1-Score für Trainingsdaten\n",
    "train_precision = precision_score(train_labels, train_predictions)\n",
    "train_recall = recall_score(train_labels, train_predictions)\n",
    "train_f1 = f1_score(train_labels, train_predictions)\n",
    "\n",
    "# Präzision, Rückruf und F1-Score für Testdaten\n",
    "test_precision = precision_score(test_labels, test_predictions)\n",
    "test_recall = recall_score(test_labels, test_predictions)\n",
    "test_f1 = f1_score(test_labels, test_predictions)\n",
    "\n",
    "# Ausgabe der Ergebnisse\n",
    "print(\"Trainingsdaten:\")\n",
    "print(f\"Präzision: {train_precision:.4f}\")\n",
    "print(f\"Rückruf: {train_recall:.4f}\")\n",
    "print(f\"F1-Score: {train_f1:.4f}\")\n",
    "\n",
    "print(\"\\nTestdaten:\")\n",
    "print(f\"Präzision: {test_precision:.4f}\")\n",
    "print(f\"Rückruf: {test_recall:.4f}\")\n",
    "print(f\"F1-Score: {test_f1:.4f}\")\n"
   ]
  },
  {
   "cell_type": "code",
   "execution_count": 62,
   "metadata": {},
   "outputs": [
    {
     "name": "stdout",
     "output_type": "stream",
     "text": [
      "Epoch 1/30\n",
      "38/38 [==============================] - 0s 5ms/step - loss: 0.0290 - accuracy: 0.9950 - val_loss: 0.0648 - val_accuracy: 0.9799\n",
      "Epoch 2/30\n",
      "38/38 [==============================] - 0s 2ms/step - loss: 0.0317 - accuracy: 0.9933 - val_loss: 0.0657 - val_accuracy: 0.9799\n",
      "Epoch 3/30\n",
      "38/38 [==============================] - 0s 2ms/step - loss: 0.0314 - accuracy: 0.9958 - val_loss: 0.0646 - val_accuracy: 0.9833\n",
      "Epoch 4/30\n",
      "38/38 [==============================] - 0s 3ms/step - loss: 0.0293 - accuracy: 0.9958 - val_loss: 0.0643 - val_accuracy: 0.9833\n",
      "Epoch 5/30\n",
      "38/38 [==============================] - 0s 2ms/step - loss: 0.0282 - accuracy: 0.9933 - val_loss: 0.0654 - val_accuracy: 0.9732\n",
      "Epoch 6/30\n",
      "38/38 [==============================] - 0s 2ms/step - loss: 0.0284 - accuracy: 0.9941 - val_loss: 0.0641 - val_accuracy: 0.9799\n",
      "Epoch 7/30\n",
      "38/38 [==============================] - 0s 2ms/step - loss: 0.0297 - accuracy: 0.9941 - val_loss: 0.0650 - val_accuracy: 0.9732\n",
      "Epoch 8/30\n",
      "38/38 [==============================] - 0s 2ms/step - loss: 0.0271 - accuracy: 0.9958 - val_loss: 0.0628 - val_accuracy: 0.9799\n",
      "Epoch 9/30\n",
      "38/38 [==============================] - 0s 2ms/step - loss: 0.0242 - accuracy: 0.9958 - val_loss: 0.0675 - val_accuracy: 0.9766\n",
      "Epoch 10/30\n",
      "38/38 [==============================] - 0s 2ms/step - loss: 0.0268 - accuracy: 0.9941 - val_loss: 0.0650 - val_accuracy: 0.9732\n",
      "Epoch 11/30\n",
      "38/38 [==============================] - 0s 2ms/step - loss: 0.0255 - accuracy: 0.9950 - val_loss: 0.0641 - val_accuracy: 0.9799\n"
     ]
    },
    {
     "data": {
      "text/plain": [
       "<keras.src.callbacks.History at 0x1418a48d0>"
      ]
     },
     "execution_count": 62,
     "metadata": {},
     "output_type": "execute_result"
    }
   ],
   "source": [
    "model.fit(Trainning_pad, train_labels, epochs=epoch, validation_data=(Testing_pad, test_labels), callbacks=[early_stop])"
   ]
  },
  {
   "cell_type": "code",
   "execution_count": 63,
   "metadata": {},
   "outputs": [
    {
     "name": "stdout",
     "output_type": "stream",
     "text": [
      "10/10 [==============================] - 0s 1ms/step - loss: 0.0641 - accuracy: 0.9799\n",
      "Test Loss: 0.06407622992992401, Test Accuracy: 0.9799330830574036\n"
     ]
    }
   ],
   "source": [
    "loss, accuracy = model.evaluate(Testing_pad, test_labels)\n",
    "print(f'Test Loss: {loss}, Test Accuracy: {accuracy}')"
   ]
  }
 ],
 "metadata": {
  "kernelspec": {
   "display_name": "Python 3",
   "language": "python",
   "name": "python3"
  },
  "language_info": {
   "codemirror_mode": {
    "name": "ipython",
    "version": 3
   },
   "file_extension": ".py",
   "mimetype": "text/x-python",
   "name": "python",
   "nbconvert_exporter": "python",
   "pygments_lexer": "ipython3",
   "version": "3.11.2"
  },
  "papermill": {
   "default_parameters": {},
   "duration": 32.053119,
   "end_time": "2021-02-08T08:52:52.370459",
   "environment_variables": {},
   "exception": null,
   "input_path": "__notebook__.ipynb",
   "output_path": "__notebook__.ipynb",
   "parameters": {},
   "start_time": "2021-02-08T08:52:20.317340",
   "version": "2.2.2"
  }
 },
 "nbformat": 4,
 "nbformat_minor": 4
}
